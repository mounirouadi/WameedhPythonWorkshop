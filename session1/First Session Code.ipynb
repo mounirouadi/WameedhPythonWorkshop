{
 "cells": [
  {
   "cell_type": "markdown",
   "metadata": {},
   "source": [
    "# Introduction"
   ]
  },
  {
   "cell_type": "code",
   "execution_count": 1,
   "metadata": {
    "scrolled": true
   },
   "outputs": [
    {
     "name": "stdout",
     "output_type": "stream",
     "text": [
      "Hello World !\n"
     ]
    }
   ],
   "source": [
    "# Python \"Hello world\" \n",
    "print(\"Hello World !\")"
   ]
  },
  {
   "cell_type": "code",
   "execution_count": 1,
   "metadata": {},
   "outputs": [],
   "source": [
    "Teacher = 'Bob'  # Teacher is of type str (String)"
   ]
  },
  {
   "cell_type": "code",
   "execution_count": 2,
   "metadata": {},
   "outputs": [
    {
     "ename": "NameError",
     "evalue": "name 'teacher' is not defined",
     "output_type": "error",
     "traceback": [
      "\u001b[1;31m---------------------------------------------------------------------------\u001b[0m",
      "\u001b[1;31mNameError\u001b[0m                                 Traceback (most recent call last)",
      "\u001b[1;32m~\\AppData\\Local\\Temp\\ipykernel_1420\\779449688.py\u001b[0m in \u001b[0;36m<module>\u001b[1;34m\u001b[0m\n\u001b[1;32m----> 1\u001b[1;33m \u001b[0mprint\u001b[0m\u001b[1;33m(\u001b[0m\u001b[0mteacher\u001b[0m\u001b[1;33m)\u001b[0m\u001b[1;33m\u001b[0m\u001b[1;33m\u001b[0m\u001b[0m\n\u001b[0m",
      "\u001b[1;31mNameError\u001b[0m: name 'teacher' is not defined"
     ]
    }
   ],
   "source": [
    "print(teacher)"
   ]
  },
  {
   "cell_type": "code",
   "execution_count": 3,
   "metadata": {},
   "outputs": [
    {
     "name": "stdout",
     "output_type": "stream",
     "text": [
      "Bob\n"
     ]
    }
   ],
   "source": [
    "print(Teacher)"
   ]
  },
  {
   "cell_type": "markdown",
   "metadata": {},
   "source": [
    "# Variables"
   ]
  },
  {
   "cell_type": "code",
   "execution_count": 2,
   "metadata": {},
   "outputs": [
    {
     "name": "stdout",
     "output_type": "stream",
     "text": [
      "4\n",
      "Mounir\n"
     ]
    }
   ],
   "source": [
    "#Declaring variables\n",
    "\n",
    "x= 4        # x is of type int (Integer)\n",
    "y= 'Mounir' # y is of type str (String)\n",
    "print(x)\n",
    "print(y)"
   ]
  },
  {
   "cell_type": "code",
   "execution_count": 7,
   "metadata": {},
   "outputs": [
    {
     "data": {
      "text/plain": [
       "8"
      ]
     },
     "execution_count": 7,
     "metadata": {},
     "output_type": "execute_result"
    }
   ],
   "source": [
    "5+3"
   ]
  },
  {
   "cell_type": "code",
   "execution_count": 8,
   "metadata": {},
   "outputs": [
    {
     "name": "stdout",
     "output_type": "stream",
     "text": [
      "8\n"
     ]
    }
   ],
   "source": [
    "First = 5\n",
    "Second = 3\n",
    "print(First + Second)"
   ]
  },
  {
   "cell_type": "code",
   "execution_count": 9,
   "metadata": {},
   "outputs": [
    {
     "name": "stdout",
     "output_type": "stream",
     "text": [
      "8\n"
     ]
    }
   ],
   "source": [
    "Third = First + Second\n",
    "print(Third)"
   ]
  },
  {
   "cell_type": "code",
   "execution_count": 6,
   "metadata": {},
   "outputs": [
    {
     "name": "stdout",
     "output_type": "stream",
     "text": [
      "8   3   4.0\n"
     ]
    }
   ],
   "source": [
    "# If you want to specify the data type of a variable, this can be done with casting.\n",
    "\n",
    "x= str(8) \n",
    "y= int(3)\n",
    "z= float(4)\n",
    "\n",
    "print(x,\" \",y,\" \",z)"
   ]
  },
  {
   "cell_type": "code",
   "execution_count": 7,
   "metadata": {},
   "outputs": [
    {
     "name": "stdout",
     "output_type": "stream",
     "text": [
      "<class 'int'>\n",
      "<class 'str'>\n"
     ]
    }
   ],
   "source": [
    "# You can get the type of the variable using type() function\n",
    "\n",
    "x= 4        \n",
    "y= 'Mounir' \n",
    "print(type(x))\n",
    "print(type(y))"
   ]
  },
  {
   "cell_type": "code",
   "execution_count": 9,
   "metadata": {},
   "outputs": [
    {
     "name": "stdout",
     "output_type": "stream",
     "text": [
      "Orange\n",
      "Banana\n",
      "Cherry\n",
      "Orange Banana Cherry\n"
     ]
    }
   ],
   "source": [
    "# Multiple variables assignment\n",
    "\n",
    "x, y, z = \"Orange\", \"Banana\", \"Cherry\"\n",
    "print(x)\n",
    "print(y)\n",
    "print(z)\n",
    "# OR\n",
    "print(x,y,z) "
   ]
  },
  {
   "cell_type": "markdown",
   "metadata": {},
   "source": [
    "# Operations"
   ]
  },
  {
   "cell_type": "code",
   "execution_count": 4,
   "metadata": {},
   "outputs": [
    {
     "name": "stdout",
     "output_type": "stream",
     "text": [
      "catdog\n"
     ]
    }
   ],
   "source": [
    "#We can add strings!\n",
    "\n",
    "print(\"cat\"+\"dog\")"
   ]
  },
  {
   "cell_type": "code",
   "execution_count": 5,
   "metadata": {},
   "outputs": [
    {
     "name": "stdout",
     "output_type": "stream",
     "text": [
      "hellohellohellohellohellohellohellohellohellohellohellohellohellohellohellohellohellohellohellohello\n"
     ]
    }
   ],
   "source": [
    "#Or multiply strings!\n",
    "\n",
    "print(\"hello\"*20)"
   ]
  },
  {
   "cell_type": "code",
   "execution_count": 11,
   "metadata": {},
   "outputs": [
    {
     "name": "stdout",
     "output_type": "stream",
     "text": [
      "9\n",
      "-3\n",
      "18\n",
      "0.5\n"
     ]
    }
   ],
   "source": [
    "# Direct operations\n",
    "x=3\n",
    "y=6\n",
    "print(x+y)\n",
    "print(x-y)\n",
    "print(x*y)\n",
    "print(x/y)"
   ]
  },
  {
   "cell_type": "code",
   "execution_count": 12,
   "metadata": {},
   "outputs": [
    {
     "name": "stdout",
     "output_type": "stream",
     "text": [
      "9 -3 18 0.5 0\n"
     ]
    }
   ],
   "source": [
    "# We can assign the result of an operation to a third variable\n",
    "x=3\n",
    "y=6\n",
    "z1=x+y\n",
    "z2=x-y\n",
    "z3=x*y\n",
    "z4=x/y\n",
    "z5=y%x\n",
    "print(z1,z2,z3,z4,z5)"
   ]
  },
  {
   "cell_type": "code",
   "execution_count": 13,
   "metadata": {},
   "outputs": [
    {
     "name": "stdout",
     "output_type": "stream",
     "text": [
      "2\n",
      "5\n"
     ]
    }
   ],
   "source": [
    "# Increment and decrement\n",
    "x=3\n",
    "y=4\n",
    "x-=1\n",
    "y+=1\n",
    "print(x)\n",
    "print(y)"
   ]
  },
  {
   "cell_type": "code",
   "execution_count": 15,
   "metadata": {},
   "outputs": [
    {
     "name": "stdout",
     "output_type": "stream",
     "text": [
      "8\n"
     ]
    }
   ],
   "source": [
    "First = 5\n",
    "Second = 3\n",
    "print(First + Second)"
   ]
  },
  {
   "cell_type": "code",
   "execution_count": 14,
   "metadata": {},
   "outputs": [
    {
     "name": "stdout",
     "output_type": "stream",
     "text": [
      "Happy New Year!\n"
     ]
    }
   ],
   "source": [
    "First = \"Happy \"\n",
    "Second = \"New Year!\"\n",
    "print(First + Second)"
   ]
  },
  {
   "cell_type": "code",
   "execution_count": 16,
   "metadata": {},
   "outputs": [
    {
     "name": "stdout",
     "output_type": "stream",
     "text": [
      "53\n"
     ]
    }
   ],
   "source": [
    "First = \"5\"\n",
    "Second = \"3\"\n",
    "print(First + Second)"
   ]
  },
  {
   "cell_type": "code",
   "execution_count": 17,
   "metadata": {},
   "outputs": [
    {
     "name": "stdout",
     "output_type": "stream",
     "text": [
      "13\n"
     ]
    }
   ],
   "source": [
    "score = 8\n",
    "score = score + 5\n",
    "print(score)"
   ]
  },
  {
   "cell_type": "markdown",
   "metadata": {},
   "source": [
    "# Condional operation"
   ]
  },
  {
   "cell_type": "code",
   "execution_count": 18,
   "metadata": {},
   "outputs": [
    {
     "data": {
      "text/plain": [
       "False"
      ]
     },
     "execution_count": 18,
     "metadata": {},
     "output_type": "execute_result"
    }
   ],
   "source": [
    "4 < 3"
   ]
  },
  {
   "cell_type": "code",
   "execution_count": 19,
   "metadata": {},
   "outputs": [
    {
     "data": {
      "text/plain": [
       "True"
      ]
     },
     "execution_count": 19,
     "metadata": {},
     "output_type": "execute_result"
    }
   ],
   "source": [
    "5+2 > 2"
   ]
  },
  {
   "cell_type": "code",
   "execution_count": 21,
   "metadata": {},
   "outputs": [
    {
     "name": "stdout",
     "output_type": "stream",
     "text": [
      "True\n",
      "False\n",
      "False\n"
     ]
    }
   ],
   "source": [
    "nbr1 = 4\n",
    "nbr2 = 10\n",
    "score = 1\n",
    "\n",
    "print(nbr2 == 10)\n",
    "print(nbr1 != 4)\n",
    "print(nbr1 == nbr2)"
   ]
  },
  {
   "cell_type": "code",
   "execution_count": 23,
   "metadata": {},
   "outputs": [
    {
     "name": "stdout",
     "output_type": "stream",
     "text": [
      "False\n"
     ]
    }
   ],
   "source": [
    "print(score >= 9)\n",
    "score = score + 4"
   ]
  },
  {
   "cell_type": "markdown",
   "metadata": {},
   "source": [
    "# Lists"
   ]
  },
  {
   "cell_type": "code",
   "execution_count": 12,
   "metadata": {},
   "outputs": [
    {
     "name": "stdout",
     "output_type": "stream",
     "text": [
      "['bannana', 'orange', 'strawberry']\n",
      "[1, 2, 8, 9, 2, 1, 4]\n",
      "<class 'list'>\n",
      "4\n"
     ]
    }
   ],
   "source": [
    "# Lists\n",
    "fruits=[\"bannana\",\"orange\",\"strawberry\"]\n",
    "       #    0         1          2  \n",
    "numbers=[1,2,8,9,2,1,4]\n",
    "       # 0 1 2 3 4 5 6 \n",
    "\n",
    "print(fruits)\n",
    "print(numbers)\n",
    "print(type(fruits))\n",
    "\n",
    "#Mixed lists\n",
    "mixed_list=[\"bannana\",32,\"hello\",3.3234]\n",
    "print(len(mixed_list))\n"
   ]
  },
  {
   "cell_type": "code",
   "execution_count": 16,
   "metadata": {},
   "outputs": [
    {
     "name": "stdout",
     "output_type": "stream",
     "text": [
      "orange\n",
      "dates\n",
      "['orange', 'strawberry', 'apple']\n",
      "['bannana', 'orange', 'strawberry', 'apple', 'dates']\n",
      "['strawberry', 'apple', 'dates']\n"
     ]
    }
   ],
   "source": [
    "# Accessing lists items\n",
    "fruits=[\"bannana\",\"orange\",\"strawberry\",\"apple\",\"dates\"]\n",
    "\n",
    "print(fruits[1])\n",
    "print(fruits[4])\n",
    "print(fruits[1:4])\n",
    "print(fruits[:5])\n",
    "print(fruits[2:])\n"
   ]
  },
  {
   "cell_type": "code",
   "execution_count": 19,
   "metadata": {},
   "outputs": [
    {
     "name": "stdout",
     "output_type": "stream",
     "text": [
      "['bannana', 'orange', 'strawberry', 'Mounir', 'dates']\n"
     ]
    }
   ],
   "source": [
    "# Changing list item\n",
    "fruits=[\"bannana\",\"orange\",\"strawberry\",\"apple\",\"dates\"]\n",
    "fruits[3]=\"Mounir\"\n",
    "print(fruits)"
   ]
  },
  {
   "cell_type": "code",
   "execution_count": 25,
   "metadata": {},
   "outputs": [
    {
     "name": "stdout",
     "output_type": "stream",
     "text": [
      "['bannana', 32, 'hello', 3.3234, 'Mounir']\n",
      "['bannana', 32, 3.3234, 'Mounir']\n"
     ]
    }
   ],
   "source": [
    "# Adding an item to a list\n",
    "mixed_list=[\"bannana\",32,\"hello\",3.3234]\n",
    "mixed_list.append(\"Mounir\")\n",
    "print(mixed_list)\n",
    "\n",
    "# Removing item from list\n",
    "\n",
    "mixed_list.remove(mixed_list[2])\n",
    "print(mixed_list)"
   ]
  },
  {
   "cell_type": "code",
   "execution_count": 27,
   "metadata": {},
   "outputs": [
    {
     "name": "stdout",
     "output_type": "stream",
     "text": [
      "[1, 1, 2, 2, 4, 8, 9]\n",
      "['apple', 'bannana', 'dates', 'orange', 'strawberry']\n"
     ]
    }
   ],
   "source": [
    "# Sorting lists\n",
    "numbers=[1,2,8,9,2,1,4]\n",
    "fruits=[\"bannana\",\"orange\",\"strawberry\",\"apple\",\"dates\"]\n",
    "\n",
    "numbers.sort()\n",
    "fruits.sort()\n",
    "\n",
    "print(numbers)\n",
    "print(fruits)"
   ]
  },
  {
   "cell_type": "markdown",
   "metadata": {},
   "source": [
    "# If Condition"
   ]
  },
  {
   "cell_type": "code",
   "execution_count": 24,
   "metadata": {},
   "outputs": [
    {
     "name": "stdout",
     "output_type": "stream",
     "text": [
      "b is greater than a\n",
      "233\n"
     ]
    }
   ],
   "source": [
    "# If conditons\n",
    "a = 33\n",
    "b = 200\n",
    "if b > a:\n",
    "  print(\"b is greater than a\") # Make sure to leave an indent before each result of a condition\n",
    "\n",
    "if a!=b:\n",
    "    print(a+b)\n"
   ]
  },
  {
   "cell_type": "code",
   "execution_count": 25,
   "metadata": {},
   "outputs": [
    {
     "name": "stdout",
     "output_type": "stream",
     "text": [
      "b is less than a\n"
     ]
    }
   ],
   "source": [
    "# elif\n",
    "a=33\n",
    "b=33\n",
    "if b<=a:\n",
    "    print(\"b is less than a\")\n",
    "elif b==a:\n",
    "    print(\"a is equal to b\")"
   ]
  },
  {
   "cell_type": "code",
   "execution_count": 26,
   "metadata": {},
   "outputs": [
    {
     "name": "stdout",
     "output_type": "stream",
     "text": [
      "b is less than a\n",
      "a is equal to b\n"
     ]
    }
   ],
   "source": [
    "# Two successive conditons\n",
    "a=33\n",
    "b=33\n",
    "if b<=a:\n",
    "    print(\"b is less than a\")\n",
    "if b==a:\n",
    "    print(\"a is equal to b\")"
   ]
  },
  {
   "cell_type": "code",
   "execution_count": 27,
   "metadata": {},
   "outputs": [
    {
     "name": "stdout",
     "output_type": "stream",
     "text": [
      "a is greater than b\n"
     ]
    }
   ],
   "source": [
    "# if else\n",
    "\n",
    "a = 200\n",
    "b = 33\n",
    "if b > a:\n",
    "  print(\"b is greater than a\")\n",
    "elif a == b:\n",
    "  print(\"a and b are equal\")\n",
    "else:\n",
    "  print(\"a is greater than b\")"
   ]
  },
  {
   "cell_type": "code",
   "execution_count": 28,
   "metadata": {},
   "outputs": [
    {
     "name": "stdout",
     "output_type": "stream",
     "text": [
      "a is greater than a ans less than c\n"
     ]
    }
   ],
   "source": [
    "# nested if statement\n",
    "\n",
    "a=23\n",
    "b=20\n",
    "c=100\n",
    "\n",
    "if a>b:\n",
    "    if a<c:\n",
    "        print('a is greater than a ans less than c')\n",
    "else:\n",
    "    print('a is less than b')"
   ]
  },
  {
   "cell_type": "code",
   "execution_count": 29,
   "metadata": {},
   "outputs": [
    {
     "name": "stdout",
     "output_type": "stream",
     "text": [
      "hello world\n"
     ]
    }
   ],
   "source": [
    "# pass statement\n",
    "a = 33\n",
    "b = 200\n",
    "\n",
    "if a<b:\n",
    "    pass\n",
    "if b>a:\n",
    "    print(\"hello world\")\n"
   ]
  }
 ],
 "metadata": {
  "kernelspec": {
   "display_name": "Python 3 (ipykernel)",
   "language": "python",
   "name": "python3"
  },
  "language_info": {
   "codemirror_mode": {
    "name": "ipython",
    "version": 3
   },
   "file_extension": ".py",
   "mimetype": "text/x-python",
   "name": "python",
   "nbconvert_exporter": "python",
   "pygments_lexer": "ipython3",
   "version": "3.7.15"
  },
  "vscode": {
   "interpreter": {
    "hash": "f6246b25e200e4c5124e3e61789ac81350562f0761bbcf92ad9e48654207659c"
   }
  }
 },
 "nbformat": 4,
 "nbformat_minor": 2
}
