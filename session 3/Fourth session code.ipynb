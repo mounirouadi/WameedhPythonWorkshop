{
 "cells": [
  {
   "cell_type": "markdown",
   "id": "b0cab642",
   "metadata": {},
   "source": [
    "# Numpy "
   ]
  },
  {
   "cell_type": "code",
   "execution_count": 5,
   "id": "68cf4bb4",
   "metadata": {},
   "outputs": [],
   "source": [
    "# NumPy is a Python library.\n",
    "\n",
    "# NumPy is used for working with arrays."
   ]
  },
  {
   "cell_type": "code",
   "execution_count": 1,
   "id": "aada3977",
   "metadata": {},
   "outputs": [
    {
     "name": "stdout",
     "output_type": "stream",
     "text": [
      "^C\n"
     ]
    }
   ],
   "source": [
    "# Start by installing the numpy library in case it is not already installed !\n",
    "!pip install numpy"
   ]
  },
  {
   "cell_type": "code",
   "execution_count": 3,
   "id": "fdba674a",
   "metadata": {},
   "outputs": [
    {
     "name": "stdout",
     "output_type": "stream",
     "text": [
      "[23 45 55 67]\n",
      "[23, 45, 55, 67]\n",
      "<class 'list'>\n",
      "<class 'numpy.ndarray'>\n"
     ]
    }
   ],
   "source": [
    "# Creating a Numpy array\n",
    "import numpy as np\n",
    "l = [23, 45, 55, 67]\n",
    "Array=np.array(l)\n",
    "print(Array)\n",
    "print(l)\n",
    "print(type(l))\n",
    "print(type(Array))"
   ]
  },
  {
   "cell_type": "code",
   "execution_count": 4,
   "id": "8cfc5ba3",
   "metadata": {},
   "outputs": [
    {
     "name": "stdout",
     "output_type": "stream",
     "text": [
      "Array: <class 'numpy.ndarray'>\n",
      "My_List: <class 'list'>\n"
     ]
    }
   ],
   "source": [
    "# Difference between \"List\" & \"Numpy arrays\"\n",
    "\n",
    "Array=np.array([23, 45, 55, 67])\n",
    "My_List=[23, 45, 55, 67]\n",
    "print(\"Array:\",type(Array))\n",
    "print(\"My_List:\",type(My_List))\n"
   ]
  },
  {
   "cell_type": "code",
   "execution_count": 5,
   "id": "012d8fa1",
   "metadata": {},
   "outputs": [
    {
     "name": "stdout",
     "output_type": "stream",
     "text": [
      "<class 'numpy.ndarray'>\n",
      "<class 'numpy.ndarray'>\n"
     ]
    }
   ],
   "source": [
    "# You can pass a list, tuple or any array-like object into the array() method\n",
    "\n",
    "Array_1=np.array([23, 45, 55, 67])\n",
    "Array_2=np.array((23, 45, 55, 67))\n",
    "print(type(Array_1))\n",
    "print(type(Array_2))"
   ]
  },
  {
   "cell_type": "code",
   "execution_count": 12,
   "id": "24427589",
   "metadata": {
    "scrolled": true
   },
   "outputs": [
    {
     "name": "stdout",
     "output_type": "stream",
     "text": [
      "45\n",
      "Dimension of the array is 0\n",
      "***********************\n",
      "[23 45 55 67]\n",
      "Dimension of the array is 1\n",
      "***********************\n",
      "[[ 23  45  55  67]\n",
      " [ 34 123 -45  22]]\n",
      "Dimension of the array is 2\n",
      "***********************\n",
      "[[[ 23  45  55  67]\n",
      "  [ 34 123 -45  22]]\n",
      "\n",
      " [[ 34 123 -45  22]\n",
      "  [ 10  78 -33   9]]]\n",
      "Dimension of the array is 3\n",
      "-33\n"
     ]
    }
   ],
   "source": [
    "# You can create any array dimension you want\n",
    "\n",
    "# O-D array\n",
    "arr_0=np.array(45)\n",
    "print(arr_0)\n",
    "print(\"Dimension of the array is\",arr_0.ndim)\n",
    "\n",
    "print(\"***********************\")\n",
    "\n",
    "# 1-D array\n",
    "arr_1=np.array([23, 45, 55, 67])\n",
    "print(arr_1)\n",
    "print(\"Dimension of the array is\",arr_1.ndim)\n",
    "print(\"***********************\")\n",
    "\n",
    "# 2-D array\n",
    "arr_2=np.array([[23, 45, 55, 67],[34, 123, -45, 22]])\n",
    "print(arr_2)\n",
    "print(\"Dimension of the array is\",arr_2.ndim)\n",
    "print(\"***********************\")\n",
    "\n",
    "# 3-D array\n",
    "arr_3=np.array([[[23, 45, 55, 67],[34, 123, -45, 22]],\n",
    "                [[34, 123, -45, 22],[10, 78, -33, 9]]])\n",
    "print(arr_3)\n",
    "print(\"Dimension of the array is\",arr_3.ndim)\n",
    "print(arr_3[1,1,2])\n"
   ]
  },
  {
   "cell_type": "code",
   "execution_count": 13,
   "id": "073a1e64",
   "metadata": {},
   "outputs": [
    {
     "name": "stdout",
     "output_type": "stream",
     "text": [
      "23\n",
      "***********************\n",
      "[ 34 123 -45  22]\n",
      "67\n",
      "***********************\n",
      "[ 34 123 -45  22]\n",
      "67\n"
     ]
    }
   ],
   "source": [
    "# NumPy Array Indexing\n",
    "\n",
    "arr_1=np.array([23, 45, 55, 67])\n",
    "print(arr_1[0])\n",
    "print(\"***********************\")\n",
    "\n",
    "arr_2=np.array([[23, 45, 55, 67],[34, 123, -45, 22]]) \n",
    "print(arr_2[1])\n",
    "print(arr_2[0,3])\n",
    "print(\"***********************\")\n",
    "\n",
    "arr_3=np.array([[23, 45, 55, 67],[34, 123, -45, 22],[10, 78, -33, 9]])\n",
    "print(arr_3[1])\n",
    "print(arr_3[0,3])\n",
    "\n",
    "# Ask them to create a 1-D array using arr_3 "
   ]
  },
  {
   "cell_type": "code",
   "execution_count": 14,
   "id": "fecca280",
   "metadata": {},
   "outputs": [
    {
     "name": "stdout",
     "output_type": "stream",
     "text": [
      "6\n"
     ]
    }
   ],
   "source": [
    "# Array of arrays\n",
    "\n",
    "array = np.array([[[1, 2, 3], [4, 5, 6]], [[7, 8, 9], [10, 11, 12]]])\n",
    "print(array[0, 1, 2])"
   ]
  },
  {
   "cell_type": "code",
   "execution_count": 17,
   "id": "8e87201e",
   "metadata": {},
   "outputs": [
    {
     "name": "stdout",
     "output_type": "stream",
     "text": [
      "the first array:\n",
      "[ 1  2  3  4  5  6  7  8  9 10 11 12]\n",
      "the shape of the first array is: (12,)\n",
      "the second array:\n",
      "[[ 1  2  3]\n",
      " [ 4  5  6]\n",
      " [ 7  8  9]\n",
      " [10 11 12]]\n",
      "the shape of the second array is: (4, 3)\n",
      "the third array:\n",
      "[[[ 1  2]\n",
      "  [ 3  4]\n",
      "  [ 5  6]]\n",
      "\n",
      " [[ 7  8]\n",
      "  [ 9 10]\n",
      "  [11 12]]]\n",
      "the shape of the third array is: (2, 3, 2)\n"
     ]
    }
   ],
   "source": [
    "#Checking array shape and reshaping\n",
    "arr = np.array([1, 2, 3, 4, 5, 6, 7, 8, 9, 10, 11, 12])\n",
    "\n",
    "print(\"the first array:\")\n",
    "print(arr)\n",
    "print(\"the shape of the first array is:\",arr.shape)\n",
    "\n",
    "\n",
    "newarr = arr.reshape(4, 3)\n",
    "print(\"the second array:\")\n",
    "print(newarr)\n",
    "\n",
    "print(\"the shape of the second array is:\",newarr.shape)\n",
    "\n",
    "newarr = newarr.reshape(2, 3, 2)\n",
    "print(\"the third array:\")\n",
    "print(newarr)\n",
    "\n",
    "print(\"the shape of the third array is:\",newarr.shape)\n"
   ]
  },
  {
   "cell_type": "code",
   "execution_count": 33,
   "id": "f9f588e8",
   "metadata": {},
   "outputs": [
    {
     "name": "stdout",
     "output_type": "stream",
     "text": [
      "[0 1 2 3]\n"
     ]
    }
   ],
   "source": [
    "#Sorting an array\n",
    "\n",
    "arr = np.array([3, 2, 0, 1])\n",
    "\n",
    "print(np.sort(arr))"
   ]
  },
  {
   "cell_type": "code",
   "execution_count": 19,
   "id": "ca34939e",
   "metadata": {},
   "outputs": [
    {
     "name": "stdout",
     "output_type": "stream",
     "text": [
      "Addition: [30 32 34 36 38 40]\n",
      "Substraction: [-10 -10 -10 -10 -10 -10]\n",
      "Multiplication: [200 231 264 299 336 375]\n",
      "Division: [0.5        0.52380952 0.54545455 0.56521739 0.58333333 0.6       ]\n",
      "Power of: [      1000    3200000  729000000 -520093696       2500          0]\n",
      "Absolute value: [1 2 1 2 3 4]\n"
     ]
    }
   ],
   "source": [
    "#Operations on Numpy arrays\n",
    "arr1 = np.array([10, 11, 12, 13, 14, 15])\n",
    "arr2 = np.array([20, 21, 22, 23, 24, 25])\n",
    "\n",
    "newarr = np.add(arr1, arr2)\n",
    "print(\"Addition:\",newarr)\n",
    "\n",
    "newarr = np.subtract(arr1, arr2)\n",
    "print(\"Substraction:\",newarr)\n",
    "\n",
    "newarr = np.multiply(arr1, arr2)\n",
    "print(\"Multiplication:\",newarr)\n",
    "\n",
    "newarr = np.divide(arr1, arr2)\n",
    "print(\"Division:\",newarr)\n",
    "\n",
    "arr1 = np.array([10, 20, 30, 40, 50, 60])\n",
    "arr2 = np.array([3, 5, 6, 8, 2, 33])\n",
    "\n",
    "newarr = np.power(arr1, arr2)\n",
    "print(\"Power of:\",newarr)\n",
    "\n",
    "arr = np.array([-1, -2, 1, 2, 3, -4])\n",
    "\n",
    "newarr = np.absolute(arr)\n",
    "print(\"Absolute value:\",newarr)"
   ]
  },
  {
   "cell_type": "code",
   "execution_count": 23,
   "id": "e8d4455a",
   "metadata": {},
   "outputs": [
    {
     "name": "stdout",
     "output_type": "stream",
     "text": [
      "Summation: 6\n",
      "Summation of two arrays elements: 12\n",
      "Summation over 1 axis [6 6]\n"
     ]
    }
   ],
   "source": [
    "arr1 = np.array([1, 2, 3])\n",
    "arr2 = np.array([1, 2, 3])\n",
    "\n",
    "val = np.sum(arr1)\n",
    "print(\"Summation:\",val)\n",
    "\n",
    "val = np.sum([arr1, arr2])\n",
    "print(\"Summation of two arrays elements:\",val)\n",
    "\n",
    "newarr = np.sum([arr1, arr2], axis=1)\n",
    "\n",
    "print(\"Summation over 1 axis\",newarr)"
   ]
  },
  {
   "cell_type": "code",
   "execution_count": 24,
   "id": "b5e88d2f",
   "metadata": {},
   "outputs": [
    {
     "name": "stdout",
     "output_type": "stream",
     "text": [
      "Product: 40320\n",
      "Product over 1 axis: [  24 1680]\n"
     ]
    }
   ],
   "source": [
    "arr1 = np.array([1, 2, 3, 4])\n",
    "arr2 = np.array([5, 6, 7, 8])\n",
    "\n",
    "x = np.prod([arr1, arr2])\n",
    "print(\"Product:\",x)\n",
    "\n",
    "newarr = np.prod([arr1, arr2], axis=1)\n",
    "\n",
    "print(\"Product over 1 axis:\",newarr)"
   ]
  },
  {
   "cell_type": "code",
   "execution_count": 25,
   "id": "1b9970ba",
   "metadata": {},
   "outputs": [
    {
     "name": "stdout",
     "output_type": "stream",
     "text": [
      "[-4.  3.]\n",
      "[-3.  4.]\n"
     ]
    }
   ],
   "source": [
    "#Floor and Ceil\n",
    "\n",
    "arr = np.floor([-3.1666, 3.6667])\n",
    "\n",
    "print(arr)\n",
    "\n",
    "arr = np.ceil([-3.1666, 3.6667])\n",
    "print(arr)"
   ]
  },
  {
   "cell_type": "code",
   "execution_count": 26,
   "id": "b6410606",
   "metadata": {},
   "outputs": [
    {
     "name": "stdout",
     "output_type": "stream",
     "text": [
      "[1 2 3 4 5 6 7 8 9]\n"
     ]
    }
   ],
   "source": [
    "arr = np.arange(1, 10)\n",
    "print(arr)"
   ]
  },
  {
   "cell_type": "code",
   "execution_count": 27,
   "id": "459bce9e",
   "metadata": {},
   "outputs": [
    {
     "name": "stdout",
     "output_type": "stream",
     "text": [
      "[0.         1.         1.5849625  2.         2.32192809 2.5849625\n",
      " 2.80735492 3.         3.169925  ]\n"
     ]
    }
   ],
   "source": [
    "print(np.log2(arr))"
   ]
  },
  {
   "cell_type": "code",
   "execution_count": 28,
   "id": "be016ddd",
   "metadata": {},
   "outputs": [
    {
     "name": "stdout",
     "output_type": "stream",
     "text": [
      "Sin: 1.0\n",
      "Sin array: [1.         0.8660254  0.70710678 0.58778525]\n",
      "Cos: 6.123233995736766e-17\n",
      "Tan: 1.633123935319537e+16\n",
      "Degrees: [1.57079633 3.14159265 4.71238898 6.28318531]\n"
     ]
    }
   ],
   "source": [
    "#Trigonometric\n",
    "\n",
    "#Sin\n",
    "\n",
    "x = np.sin(np.pi/2)\n",
    "\n",
    "print(\"Sin:\",x)\n",
    "\n",
    "arr = np.array([np.pi/2, np.pi/3, np.pi/4, np.pi/5])\n",
    "\n",
    "x = np.sin(arr)\n",
    "\n",
    "print(\"Sin array:\",x)\n",
    "\n",
    "arr = np.array([90, 180, 270, 360])\n",
    "\n",
    "x = np.cos(np.pi/2)\n",
    "\n",
    "print(\"Cos:\",x)\n",
    "\n",
    "x = np.tan(np.pi/2)\n",
    "\n",
    "print(\"Tan:\",x)\n",
    "\n",
    "x = np.deg2rad(arr)\n",
    "\n",
    "print(\"Degrees:\",x)"
   ]
  },
  {
   "cell_type": "code",
   "execution_count": 29,
   "id": "569b473f",
   "metadata": {},
   "outputs": [
    {
     "name": "stdout",
     "output_type": "stream",
     "text": [
      "Cross Product 6\n",
      "Dot Product 22\n"
     ]
    }
   ],
   "source": [
    "#Cross Product\n",
    "# Use numpy.cross() function\n",
    "arr = np.array([2, 4])\n",
    "arr1 = np.array([1, 5])\n",
    "newarr = np.cross(arr, arr1)\n",
    "print(\"Cross Product\",newarr)\n",
    "newarr = np.dot(arr,arr1)\n",
    "print(\"Dot Product\",newarr)"
   ]
  },
  {
   "cell_type": "code",
   "execution_count": 30,
   "id": "0828d58f",
   "metadata": {},
   "outputs": [
    {
     "name": "stdout",
     "output_type": "stream",
     "text": [
      "before transpose:\n",
      "[[1 2]\n",
      " [4 5]\n",
      " [7 8]]\n",
      "after transpose:\n",
      "[[1 4 7]\n",
      " [2 5 8]]\n"
     ]
    }
   ],
   "source": [
    "#Transpose\n",
    "arr = np.array([[1, 2],\n",
    "                [4, 5],\n",
    "                [7, 8]])\n",
    " \n",
    "# before transpose\n",
    "print(\"before transpose:\")\n",
    "print(arr)\n",
    " \n",
    "# after transpose\n",
    "print(\"after transpose:\")\n",
    "print(arr.transpose())"
   ]
  },
  {
   "cell_type": "code",
   "execution_count": 32,
   "id": "dc0d8ea7",
   "metadata": {},
   "outputs": [
    {
     "name": "stdout",
     "output_type": "stream",
     "text": [
      "before transpose:\n",
      "[[1 2 3]\n",
      " [4 5 6]\n",
      " [7 8 9]]\n",
      "after transpose:\n",
      "[[1 4 7]\n",
      " [2 5 8]\n",
      " [3 6 9]]\n"
     ]
    }
   ],
   "source": [
    "#Transpose\n",
    "arr = np.array([[1, 2, 3],\n",
    "                [4, 5, 6],\n",
    "                [7, 8, 9]])\n",
    " \n",
    "# before transpose\n",
    "print(\"before transpose:\")\n",
    "print(arr)\n",
    " \n",
    "# after transpose\n",
    "print(\"after transpose:\")\n",
    "print(arr.transpose())"
   ]
  }
 ],
 "metadata": {
  "kernelspec": {
   "display_name": "Python 3 (ipykernel)",
   "language": "python",
   "name": "python3"
  },
  "language_info": {
   "codemirror_mode": {
    "name": "ipython",
    "version": 3
   },
   "file_extension": ".py",
   "mimetype": "text/x-python",
   "name": "python",
   "nbconvert_exporter": "python",
   "pygments_lexer": "ipython3",
   "version": "3.7.15"
  }
 },
 "nbformat": 4,
 "nbformat_minor": 5
}
